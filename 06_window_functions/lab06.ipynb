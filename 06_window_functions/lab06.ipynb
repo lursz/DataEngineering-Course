{
 "cells": [
  {
   "cell_type": "markdown",
   "metadata": {},
   "source": [
    "## Imports"
   ]
  },
  {
   "cell_type": "code",
   "execution_count": 8,
   "metadata": {},
   "outputs": [],
   "source": [
    "import sqlite3\n",
    "import pandas as pd"
   ]
  },
  {
   "cell_type": "markdown",
   "metadata": {},
   "source": [
    "## Download data"
   ]
  },
  {
   "cell_type": "code",
   "execution_count": 9,
   "metadata": {},
   "outputs": [],
   "source": [
    "# !curl awing.kis.agh.edu.pl:8080/detectors_names_traffic_s_small.csv.bz2 | bunzip2 > data.csv"
   ]
  },
  {
   "cell_type": "code",
   "execution_count": 10,
   "metadata": {},
   "outputs": [
    {
     "data": {
      "text/html": [
       "<div>\n",
       "<style scoped>\n",
       "    .dataframe tbody tr th:only-of-type {\n",
       "        vertical-align: middle;\n",
       "    }\n",
       "\n",
       "    .dataframe tbody tr th {\n",
       "        vertical-align: top;\n",
       "    }\n",
       "\n",
       "    .dataframe thead th {\n",
       "        text-align: right;\n",
       "    }\n",
       "</style>\n",
       "<table border=\"1\" class=\"dataframe\">\n",
       "  <thead>\n",
       "    <tr style=\"text-align: right;\">\n",
       "      <th></th>\n",
       "      <th>detector_id</th>\n",
       "      <th>shortname</th>\n",
       "      <th>name</th>\n",
       "      <th>starttime</th>\n",
       "      <th>endtime</th>\n",
       "      <th>count</th>\n",
       "    </tr>\n",
       "  </thead>\n",
       "  <tbody>\n",
       "    <tr>\n",
       "      <th>0</th>\n",
       "      <td>1</td>\n",
       "      <td>CAUTC11FD101_D1</td>\n",
       "      <td>\\N</td>\n",
       "      <td>2015-06-22 23:58:31</td>\n",
       "      <td>2015-06-23 00:00:01</td>\n",
       "      <td>1</td>\n",
       "    </tr>\n",
       "    <tr>\n",
       "      <th>1</th>\n",
       "      <td>1</td>\n",
       "      <td>CAUTC11FD101_D1</td>\n",
       "      <td>\\N</td>\n",
       "      <td>2015-06-23 00:00:01</td>\n",
       "      <td>2015-06-23 00:01:31</td>\n",
       "      <td>1</td>\n",
       "    </tr>\n",
       "    <tr>\n",
       "      <th>2</th>\n",
       "      <td>1</td>\n",
       "      <td>CAUTC11FD101_D1</td>\n",
       "      <td>\\N</td>\n",
       "      <td>2015-06-23 00:01:31</td>\n",
       "      <td>2015-06-23 00:03:01</td>\n",
       "      <td>0</td>\n",
       "    </tr>\n",
       "    <tr>\n",
       "      <th>3</th>\n",
       "      <td>1</td>\n",
       "      <td>CAUTC11FD101_D1</td>\n",
       "      <td>\\N</td>\n",
       "      <td>2015-06-23 00:03:01</td>\n",
       "      <td>2015-06-23 00:04:31</td>\n",
       "      <td>3</td>\n",
       "    </tr>\n",
       "    <tr>\n",
       "      <th>4</th>\n",
       "      <td>1</td>\n",
       "      <td>CAUTC11FD101_D1</td>\n",
       "      <td>\\N</td>\n",
       "      <td>2015-06-23 00:04:31</td>\n",
       "      <td>2015-06-23 00:06:01</td>\n",
       "      <td>0</td>\n",
       "    </tr>\n",
       "    <tr>\n",
       "      <th>5</th>\n",
       "      <td>1</td>\n",
       "      <td>CAUTC11FD101_D1</td>\n",
       "      <td>\\N</td>\n",
       "      <td>2015-06-23 00:06:01</td>\n",
       "      <td>2015-06-23 00:07:31</td>\n",
       "      <td>1</td>\n",
       "    </tr>\n",
       "    <tr>\n",
       "      <th>6</th>\n",
       "      <td>1</td>\n",
       "      <td>CAUTC11FD101_D1</td>\n",
       "      <td>\\N</td>\n",
       "      <td>2015-06-23 00:07:31</td>\n",
       "      <td>2015-06-23 00:09:01</td>\n",
       "      <td>0</td>\n",
       "    </tr>\n",
       "    <tr>\n",
       "      <th>7</th>\n",
       "      <td>1</td>\n",
       "      <td>CAUTC11FD101_D1</td>\n",
       "      <td>\\N</td>\n",
       "      <td>2015-06-23 00:09:01</td>\n",
       "      <td>2015-06-23 00:10:31</td>\n",
       "      <td>1</td>\n",
       "    </tr>\n",
       "    <tr>\n",
       "      <th>8</th>\n",
       "      <td>1</td>\n",
       "      <td>CAUTC11FD101_D1</td>\n",
       "      <td>\\N</td>\n",
       "      <td>2015-06-23 00:10:31</td>\n",
       "      <td>2015-06-23 00:12:01</td>\n",
       "      <td>1</td>\n",
       "    </tr>\n",
       "    <tr>\n",
       "      <th>9</th>\n",
       "      <td>1</td>\n",
       "      <td>CAUTC11FD101_D1</td>\n",
       "      <td>\\N</td>\n",
       "      <td>2015-06-23 00:12:01</td>\n",
       "      <td>2015-06-23 00:13:31</td>\n",
       "      <td>1</td>\n",
       "    </tr>\n",
       "  </tbody>\n",
       "</table>\n",
       "</div>"
      ],
      "text/plain": [
       "   detector_id        shortname name            starttime   \n",
       "0            1  CAUTC11FD101_D1   \\N  2015-06-22 23:58:31  \\\n",
       "1            1  CAUTC11FD101_D1   \\N  2015-06-23 00:00:01   \n",
       "2            1  CAUTC11FD101_D1   \\N  2015-06-23 00:01:31   \n",
       "3            1  CAUTC11FD101_D1   \\N  2015-06-23 00:03:01   \n",
       "4            1  CAUTC11FD101_D1   \\N  2015-06-23 00:04:31   \n",
       "5            1  CAUTC11FD101_D1   \\N  2015-06-23 00:06:01   \n",
       "6            1  CAUTC11FD101_D1   \\N  2015-06-23 00:07:31   \n",
       "7            1  CAUTC11FD101_D1   \\N  2015-06-23 00:09:01   \n",
       "8            1  CAUTC11FD101_D1   \\N  2015-06-23 00:10:31   \n",
       "9            1  CAUTC11FD101_D1   \\N  2015-06-23 00:12:01   \n",
       "\n",
       "               endtime  count  \n",
       "0  2015-06-23 00:00:01      1  \n",
       "1  2015-06-23 00:01:31      1  \n",
       "2  2015-06-23 00:03:01      0  \n",
       "3  2015-06-23 00:04:31      3  \n",
       "4  2015-06-23 00:06:01      0  \n",
       "5  2015-06-23 00:07:31      1  \n",
       "6  2015-06-23 00:09:01      0  \n",
       "7  2015-06-23 00:10:31      1  \n",
       "8  2015-06-23 00:12:01      1  \n",
       "9  2015-06-23 00:13:31      1  "
      ]
     },
     "execution_count": 10,
     "metadata": {},
     "output_type": "execute_result"
    }
   ],
   "source": [
    "db_connection = sqlite3.connect(\"proj6_readings.sqlite\")\n",
    "cur = db_connection.cursor()\n",
    "pd.read_sql(\"SELECT * FROM readings LIMIT 10;\", db_connection)"
   ]
  },
  {
   "cell_type": "markdown",
   "metadata": {},
   "source": [
    "## Add indexes (optimization)"
   ]
  },
  {
   "cell_type": "code",
   "execution_count": 11,
   "metadata": {},
   "outputs": [
    {
     "data": {
      "text/plain": [
       "[]"
      ]
     },
     "execution_count": 11,
     "metadata": {},
     "output_type": "execute_result"
    }
   ],
   "source": [
    "cur.execute(\"\"\"\n",
    "CREATE INDEX IF NOT EXISTS detector_id ON readings (detector_id);\n",
    "\"\"\").fetchall()\n",
    "cur.execute(\"\"\"\n",
    "CREATE INDEX IF NOT EXISTS starttime ON readings (starttime);\n",
    "\"\"\").fetchall()"
   ]
  },
  {
   "cell_type": "markdown",
   "metadata": {},
   "source": [
    "## 2.1 Counting"
   ]
  },
  {
   "cell_type": "code",
   "execution_count": 12,
   "metadata": {},
   "outputs": [
    {
     "name": "stdout",
     "output_type": "stream",
     "text": [
      "   COUNT(DISTINCT detector_id)\n",
      "0                          146\n"
     ]
    }
   ],
   "source": [
    "df = pd.read_sql(\"SELECT COUNT(DISTINCT detector_id) FROM readings;\", db_connection)\n",
    "print(df)\n",
    "\n",
    "# save to pickle\n",
    "df.to_pickle(\"e proj6_ex01_detector_no.pkl\")"
   ]
  },
  {
   "cell_type": "markdown",
   "metadata": {},
   "source": [
    "## 2.2 Some stats for the detectors\n"
   ]
  },
  {
   "cell_type": "code",
   "execution_count": 13,
   "metadata": {},
   "outputs": [
    {
     "name": "stdout",
     "output_type": "stream",
     "text": [
      "     detector_id  measurement_count        min_starttime        max_starttime\n",
      "0              1             357214  2015-06-22 23:58:31  2016-07-12 23:57:01\n",
      "1              2             357201  2015-06-22 23:58:31  2016-07-12 23:57:01\n",
      "2              3             356755  2015-06-22 23:58:31  2016-07-12 23:57:01\n",
      "3              4             357213  2015-06-22 23:58:31  2016-07-12 23:57:01\n",
      "4              5             357204  2015-06-22 23:58:31  2016-07-12 23:57:01\n",
      "..           ...                ...                  ...                  ...\n",
      "141          142             352730  2015-06-22 23:58:31  2016-07-12 23:57:01\n",
      "142          143             352729  2015-06-22 23:58:31  2016-07-12 23:57:01\n",
      "143          144             352730  2015-06-22 23:58:31  2016-07-12 23:57:01\n",
      "144          145             352730  2015-06-22 23:58:31  2016-07-12 23:57:01\n",
      "145          146             147666  2015-06-22 23:58:31  2015-12-01 04:21:01\n",
      "\n",
      "[146 rows x 4 columns]\n"
     ]
    }
   ],
   "source": [
    "df = pd.read_sql(\"\"\"\n",
    "SELECT detector_id, COUNT(*) AS measurement_count, MIN(starttime) AS min_starttime, MAX(starttime) AS max_starttime\n",
    "FROM readings\n",
    "WHERE count IS NOT NULL\n",
    "GROUP BY detector_id;\n",
    "\"\"\", db_connection)\n",
    "print(df)\n",
    "\n",
    "# save to pickle\n",
    "df.to_pickle(\"proj6_ex02_detector_stat.pkl\")\n"
   ]
  },
  {
   "cell_type": "markdown",
   "metadata": {},
   "source": [
    "## 2.3 Moving Window"
   ]
  },
  {
   "cell_type": "code",
   "execution_count": 14,
   "metadata": {},
   "outputs": [
    {
     "name": "stdout",
     "output_type": "stream",
     "text": [
      "     detector_id  count  previous_count\n",
      "0            146      1             NaN\n",
      "1            146      0             1.0\n",
      "2            146      0             0.0\n",
      "3            146      0             0.0\n",
      "4            146      0             0.0\n",
      "..           ...    ...             ...\n",
      "495          146      0             0.0\n",
      "496          146      2             0.0\n",
      "497          146      2             2.0\n",
      "498          146      2             2.0\n",
      "499          146      2             2.0\n",
      "\n",
      "[500 rows x 3 columns]\n"
     ]
    }
   ],
   "source": [
    "df = pd.read_sql(\"\"\"\n",
    "SELECT detector_id, count, LAG(count) OVER (PARTITION BY detector_id ORDER BY starttime) AS previous_count\n",
    "FROM readings\n",
    "WHERE detector_id = 146\n",
    "LIMIT 500;\n",
    "\"\"\", db_connection)\n",
    "print(df)\n",
    "\n",
    "# save to pickle\n",
    "df.to_pickle(\"proj6_ex03_detector_146_lag.pkl\")"
   ]
  },
  {
   "cell_type": "markdown",
   "metadata": {},
   "source": [
    "## 2.4 Window"
   ]
  },
  {
   "cell_type": "code",
   "execution_count": 15,
   "metadata": {},
   "outputs": [
    {
     "name": "stdout",
     "output_type": "stream",
     "text": [
      "     detector_id  count  window_sum\n",
      "0            146      1           2\n",
      "1            146      0           2\n",
      "2            146      0           2\n",
      "3            146      0           2\n",
      "4            146      0           2\n",
      "..           ...    ...         ...\n",
      "495          146      0          20\n",
      "496          146      2          22\n",
      "497          146      2          21\n",
      "498          146      2          21\n",
      "499          146      2          21\n",
      "\n",
      "[500 rows x 3 columns]\n"
     ]
    }
   ],
   "source": [
    "df = pd.read_sql(\"\"\"\n",
    "SELECT detector_id, count, SUM(count) OVER (PARTITION BY detector_id ORDER BY starttime ROWS BETWEEN CURRENT ROW AND 10 FOLLOWING) AS window_sum\n",
    "FROM readings\n",
    "WHERE detector_id = 146\n",
    "LIMIT 500;\n",
    "\"\"\", db_connection)\n",
    "print(df)\n",
    "\n",
    "# save to pickle\n",
    "df.to_pickle(\"proj6_ex04_detector_146_sum.pkl\")"
   ]
  }
 ],
 "metadata": {
  "kernelspec": {
   "display_name": "ml",
   "language": "python",
   "name": "python3"
  },
  "language_info": {
   "codemirror_mode": {
    "name": "ipython",
    "version": 3
   },
   "file_extension": ".py",
   "mimetype": "text/x-python",
   "name": "python",
   "nbconvert_exporter": "python",
   "pygments_lexer": "ipython3",
   "version": "3.11.3"
  },
  "orig_nbformat": 4
 },
 "nbformat": 4,
 "nbformat_minor": 2
}
